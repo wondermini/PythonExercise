{
  "nbformat": 4,
  "nbformat_minor": 0,
  "metadata": {
    "colab": {
      "name": "노트북 유닛테스트 연습.ipynb",
      "provenance": [],
      "authorship_tag": "ABX9TyPevx5xkmJaFN04eoOqSg/9",
      "include_colab_link": true
    },
    "kernelspec": {
      "name": "python3",
      "display_name": "Python 3"
    },
    "language_info": {
      "name": "python"
    }
  },
  "cells": [
    {
      "cell_type": "markdown",
      "metadata": {
        "id": "view-in-github",
        "colab_type": "text"
      },
      "source": [
        "<a href=\"https://colab.research.google.com/github/wondermini/PythonExercise/blob/main/%EB%85%B8%ED%8A%B8%EB%B6%81_%EC%9C%A0%EB%8B%9B%ED%85%8C%EC%8A%A4%ED%8A%B8_%EC%97%B0%EC%8A%B5.ipynb\" target=\"_parent\"><img src=\"https://colab.research.google.com/assets/colab-badge.svg\" alt=\"Open In Colab\"/></a>"
      ]
    },
    {
      "cell_type": "code",
      "source": [
        "def add(a, b):\n",
        "  return a + b"
      ],
      "metadata": {
        "id": "SnFAS95EpvHS"
      },
      "execution_count": 2,
      "outputs": []
    },
    {
      "cell_type": "code",
      "source": [
        "import unittest\n",
        "\n",
        "class TestNotebook(unittest.TestCase):\n",
        "    \n",
        "    def test_add(self):\n",
        "        self.assertEqual(add(2, 2), 4)\n",
        "        \n",
        "\n",
        "unittest.main(argv=[''], verbosity=2, exit=False)"
      ],
      "metadata": {
        "colab": {
          "base_uri": "https://localhost:8080/"
        },
        "id": "cB3O0abntE29",
        "outputId": "e8acb447-8aff-4208-abd8-d4769ca11d6e"
      },
      "execution_count": 4,
      "outputs": [
        {
          "output_type": "stream",
          "name": "stderr",
          "text": [
            "test_runs_1 (__main__.SampleTests) ... ok\n",
            "test_runs_2 (__main__.SampleTests) ... ok\n",
            "test_runs_3 (__main__.SampleTests) ... ok\n",
            "test_add (__main__.TestNotebook) ... "
          ]
        },
        {
          "output_type": "stream",
          "name": "stdout",
          "text": [
            "➽ setUpClass\n",
            "\t setUp\n",
            "\t➪ test_runs_1 test\n",
            "\t➪ helper_function param1 test\n",
            "\t tearDown \n",
            "\n",
            "\t setUp\n",
            "\t➪ test_runs_2 [1, 2, 3, 4]\n",
            "\t tearDown \n",
            "\n",
            "\t setUp\n",
            "\t➪ test_runs_3\n",
            "\t tearDown \n",
            "\n",
            "➽ tearDownClass\n"
          ]
        },
        {
          "output_type": "stream",
          "name": "stderr",
          "text": [
            "ok\n",
            "\n",
            "----------------------------------------------------------------------\n",
            "Ran 4 tests in 0.016s\n",
            "\n",
            "OK\n"
          ]
        },
        {
          "output_type": "execute_result",
          "data": {
            "text/plain": [
              "<unittest.main.TestProgram at 0x7ff89bb01ad0>"
            ]
          },
          "metadata": {},
          "execution_count": 4
        }
      ]
    },
    {
      "cell_type": "code",
      "source": [
        ""
      ],
      "metadata": {
        "id": "yr7nw_kEtQnN"
      },
      "execution_count": null,
      "outputs": []
    }
  ]
}